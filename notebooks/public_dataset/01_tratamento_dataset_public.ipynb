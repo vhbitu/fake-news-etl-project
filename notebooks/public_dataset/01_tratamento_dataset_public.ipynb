{
 "cells": [
  {
   "cell_type": "code",
   "execution_count": 1,
   "id": "8e0c2479",
   "metadata": {},
   "outputs": [
    {
     "ename": "SyntaxError",
     "evalue": "closing parenthesis ']' does not match opening parenthesis '(' (583419827.py, line 19)",
     "output_type": "error",
     "traceback": [
      "  \u001b[36mCell\u001b[39m\u001b[36m \u001b[39m\u001b[32mIn[1]\u001b[39m\u001b[32m, line 19\u001b[39m\n\u001b[31m    \u001b[39m\u001b[31mdf['tags'] = df['tags'].astype(str).str.replace(\"[\\[\\]\\'\"]\", \"\", regex=True)\u001b[39m\n                                                             ^\n\u001b[31mSyntaxError\u001b[39m\u001b[31m:\u001b[39m closing parenthesis ']' does not match opening parenthesis '('\n"
     ]
    }
   ],
   "source": [
    "# Organização final do dataset para publicação\n",
    "\n",
    "import pandas as pd\n",
    "\n",
    "# Caminho do arquivo original\n",
    "CAMINHO_ORIGINAL = r\"C:\\\\Users\\\\vbitu\\\\projects\\\\fake-news-etl-project\\\\data\\\\interim\\\\dados_classificados_completos_atualizado.csv\"\n",
    "CAMINHO_SAIDA = r\"C:\\\\Users\\\\vbitu\\\\projects\\\\fake-news-etl-project\\\\data\\\\public\\\\fake_news_dataset_curado.csv\"\n",
    "\n",
    "# Carregar\n",
    "print(\"Lendo dados...\")\n",
    "df = pd.read_csv(CAMINHO_ORIGINAL)\n",
    "\n",
    "# Corrigir coluna de veredito: alguns valores são booleanos True/False\n",
    "print(\"Corrigindo coluna de veredito...\")\n",
    "df['veredito'] = df['veredito'].astype(str).str.lower().replace({\"true\": \"verdadeiro\", \"false\": \"falso\"})\n",
    "\n",
    "# Converter coluna 'tags' de string tipo \"['exemplo']\" para string limpa\n",
    "print(\"Limpando coluna de tags...\")\n",
    "df['tags'] = df['tags'].astype(str).str.replace(\"[\\[\\]\\'\"]\", \"\", regex=True)\n",
    "\n",
    "# Reorganizar colunas se necessário\n",
    "colunas_ordenadas = [\n",
    "    'titulo',\n",
    "    'conteudo_completo',\n",
    "    'veredito',\n",
    "    'categoria_chatgpt',\n",
    "    'tags',\n",
    "    'data_publicacao',\n",
    "    'link'\n",
    "]\n",
    "\n",
    "df = df[[col for col in colunas_ordenadas if col in df.columns]]\n",
    "\n",
    "# Salvar dataset final pronto para uso público\n",
    "print(\"Salvando arquivo final...\")\n",
    "df.to_csv(CAMINHO_SAIDA, index=False)\n",
    "print(\"Dataset organizado e salvo em:\", CAMINHO_SAIDA)\n"
   ]
  }
 ],
 "metadata": {
  "kernelspec": {
   "display_name": "fake-news-etl-v2",
   "language": "python",
   "name": "python3"
  },
  "language_info": {
   "codemirror_mode": {
    "name": "ipython",
    "version": 3
   },
   "file_extension": ".py",
   "mimetype": "text/x-python",
   "name": "python",
   "nbconvert_exporter": "python",
   "pygments_lexer": "ipython3",
   "version": "3.11.11"
  }
 },
 "nbformat": 4,
 "nbformat_minor": 5
}
