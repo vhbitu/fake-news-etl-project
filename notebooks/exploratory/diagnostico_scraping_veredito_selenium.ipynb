{
 "cells": [
  {
   "cell_type": "markdown",
   "id": "17858036",
   "metadata": {},
   "source": [
    "# Diagnóstico de Vereditos com Selenium\n",
    "\n",
    "Este notebook foi criado como um teste exploratório para validar os seletores HTML utilizados no scraping da plataforma [Aos Fatos](https://www.aosfatos.org).\n",
    "\n",
    "O objetivo é verificar, na primeira página de checagens, se os elementos com veredito (ex: **FALSO**, **VERDADEIRO**) estão sendo corretamente localizados pelo Selenium.\n",
    "\n",
    "> ⚠️ Este notebook **não faz parte do pipeline principal** de coleta de dados.  \n",
    "> Ele foi útil durante o desenvolvimento para garantir que os seletores estavam corretos antes da execução em larga escala.\n"
   ]
  },
  {
   "cell_type": "code",
   "execution_count": null,
   "id": "88d4a7e4",
   "metadata": {},
   "outputs": [],
   "source": [
    "from selenium import webdriver\n",
    "from selenium.webdriver.chrome.service import Service\n",
    "from selenium.webdriver.chrome.webdriver import Options\n",
    "from selenium.webdriver.common.by import By\n",
    "from selenium.webdriver.support.ui import WebDriverWait\n",
    "from selenium.webdriver.support import expected_conditions as EC\n",
    "from pathlib import Path\n",
    "\n",
    "# Define o diretório base do projeto (ajuste se o notebook estiver em outro local)\n",
    "BASE_DIR = Path().resolve().parent.parent\n",
    "\n",
    "# Caminho para o ChromeDriver (ajuste conforme a localização real no seu projeto)\n",
    "CHROMEDRIVER_PATH = BASE_DIR / \"Páginas HTML\" / \"Chrome Driver\" / \"chromedriver-win64\" / \"chromedriver-win64\" / \"chromedriver.exe\"\n",
    "\n",
    "# Configurações do navegador\n",
    "options = Options()\n",
    "options.add_argument(\"--start-maximized\")\n",
    "# options.add_argument(\"--headless\")  # descomente para rodar sem abrir o navegador\n",
    "\n",
    "# Inicializa o driver\n",
    "service = Service(str(CHROMEDRIVER_PATH))\n",
    "driver = webdriver.Chrome(service=service, options=options)\n",
    "\n",
    "# Acessa a primeira página de checagens\n",
    "url = \"https://www.aosfatos.org/noticias/?formato=checagem\"\n",
    "driver.get(url)\n",
    "\n",
    "# Aguarda o carregamento dos elementos principais\n",
    "try:\n",
    "    WebDriverWait(driver, 20).until(\n",
    "        EC.presence_of_element_located((By.CSS_SELECTOR, \"div.group.relative.size-max\"))\n",
    "    )\n",
    "except:\n",
    "    print(\"⚠️ Tempo de espera excedido. Conteúdo não carregou.\")\n",
    "\n",
    "# Captura os cards da página\n",
    "cards = driver.find_elements(By.CSS_SELECTOR, \"div.group.relative.size-max\")\n",
    "\n",
    "# Loop de diagnóstico: verifica se cada card tem veredito\n",
    "for idx, card in enumerate(cards):\n",
    "    try:\n",
    "        veredito = card.find_element(By.CSS_SELECTOR, \"span.rounded-full\").text\n",
    "        print(f\"✅ Card {idx+1}: Veredito encontrado -> {veredito}\")\n",
    "    except:\n",
    "        print(f\"❌ Card {idx+1}: Sem veredito encontrado\")\n",
    "\n",
    "# Encerra o navegador\n",
    "driver.quit()\n"
   ]
  }
 ],
 "metadata": {
  "language_info": {
   "name": "python"
  }
 },
 "nbformat": 4,
 "nbformat_minor": 5
}
