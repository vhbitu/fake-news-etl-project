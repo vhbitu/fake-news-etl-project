{
 "cells": [
  {
   "cell_type": "code",
   "execution_count": 9,
   "id": "dbe9ec0d",
   "metadata": {},
   "outputs": [
    {
     "data": {
      "text/html": [
       "<div>\n",
       "<style scoped>\n",
       "    .dataframe tbody tr th:only-of-type {\n",
       "        vertical-align: middle;\n",
       "    }\n",
       "\n",
       "    .dataframe tbody tr th {\n",
       "        vertical-align: top;\n",
       "    }\n",
       "\n",
       "    .dataframe thead th {\n",
       "        text-align: right;\n",
       "    }\n",
       "</style>\n",
       "<table border=\"1\" class=\"dataframe\">\n",
       "  <thead>\n",
       "    <tr style=\"text-align: right;\">\n",
       "      <th></th>\n",
       "      <th>conteudo_completo</th>\n",
       "      <th>texto_limpo</th>\n",
       "    </tr>\n",
       "  </thead>\n",
       "  <tbody>\n",
       "    <tr>\n",
       "      <th>0</th>\n",
       "      <td>Não é verdade que o ex-presidente Jair Bolsona...</td>\n",
       "      <td>verdade expresidente jair Bolsonaro pl promove...</td>\n",
       "    </tr>\n",
       "    <tr>\n",
       "      <th>1</th>\n",
       "      <td>Não é verdade que um vídeo mostra um “rolezinh...</td>\n",
       "      <td>verdade vídeo mostrar rolezinho convocar rappe...</td>\n",
       "    </tr>\n",
       "    <tr>\n",
       "      <th>2</th>\n",
       "      <td>Não é verdade que um porta-aviões da Marinha d...</td>\n",
       "      <td>verdade portaavião marinha Estados Unidos atra...</td>\n",
       "    </tr>\n",
       "    <tr>\n",
       "      <th>3</th>\n",
       "      <td>Não é verdade que o influenciador Jon Vlogs re...</td>\n",
       "      <td>verdade influenciador jon vlogs revelar presid...</td>\n",
       "    </tr>\n",
       "    <tr>\n",
       "      <th>4</th>\n",
       "      <td>Não é recente um vídeo que mostra a Polícia Mi...</td>\n",
       "      <td>recente vídeo mostrar polícia militar Paulo di...</td>\n",
       "    </tr>\n",
       "  </tbody>\n",
       "</table>\n",
       "</div>"
      ],
      "text/plain": [
       "                                   conteudo_completo  \\\n",
       "0  Não é verdade que o ex-presidente Jair Bolsona...   \n",
       "1  Não é verdade que um vídeo mostra um “rolezinh...   \n",
       "2  Não é verdade que um porta-aviões da Marinha d...   \n",
       "3  Não é verdade que o influenciador Jon Vlogs re...   \n",
       "4  Não é recente um vídeo que mostra a Polícia Mi...   \n",
       "\n",
       "                                         texto_limpo  \n",
       "0  verdade expresidente jair Bolsonaro pl promove...  \n",
       "1  verdade vídeo mostrar rolezinho convocar rappe...  \n",
       "2  verdade portaavião marinha Estados Unidos atra...  \n",
       "3  verdade influenciador jon vlogs revelar presid...  \n",
       "4  recente vídeo mostrar polícia militar Paulo di...  "
      ]
     },
     "execution_count": 9,
     "metadata": {},
     "output_type": "execute_result"
    }
   ],
   "source": [
    "import pandas as pd\n",
    "import re\n",
    "import spacy\n",
    "\n",
    "# Carregando o modelo do SpaCy\n",
    "nlp = spacy.load('pt_core_news_sm')\n",
    "\n",
    "# Carregando o dataset com o path correto\n",
    "df_unificado = pd.read_csv(r'C:\\Users\\vbitu\\projects\\fake-news-etl-project\\data\\processed\\dados_unificados_aosfatos.csv')\n",
    "\n",
    "# Função de limpeza com o SpaCy direto\n",
    "def clean_text_spacy(text):\n",
    "    if pd.isna(text):\n",
    "        return \"\"\n",
    "\n",
    "    text = text.lower()\n",
    "    text = re.sub(r\"http\\S+|www\\S+|https\\S+\", '', text, flags=re.MULTILINE)\n",
    "    text = re.sub(r'\\d+', '', text)\n",
    "    text = re.sub(r'[^\\w\\s]', '', text)\n",
    "\n",
    "    doc = nlp(text)\n",
    "    lemmatized = [token.lemma_ for token in doc if not token.is_stop and not token.is_punct]\n",
    "\n",
    "    return \" \".join(lemmatized)\n",
    "\n",
    "# Aplicando na coluna correta (ajuste caso o nome da coluna seja diferente)\n",
    "df_unificado['texto_limpo'] = df_unificado['conteudo_completo'].apply(clean_text_spacy)\n",
    "\n",
    "# Salvando o dataset atualizado com o texto limpo\n",
    "df_unificado.to_csv(r'C:\\Users\\vbitu\\projects\\fake-news-etl-project\\data\\processed\\dados_unificados_aosfatos_limpo.csv', index=False)\n",
    "\n",
    "# Visualizando resultado\n",
    "df_unificado[['conteudo_completo', 'texto_limpo']].head()\n",
    "\n"
   ]
  },
  {
   "cell_type": "code",
   "execution_count": 4,
   "id": "25c786be",
   "metadata": {},
   "outputs": [
    {
     "data": {
      "text/plain": [
       "['external', 'interim', 'processed', 'raw']"
      ]
     },
     "execution_count": 4,
     "metadata": {},
     "output_type": "execute_result"
    }
   ],
   "source": [
    "import os\n",
    "os.listdir(r'C:\\Users\\vbitu\\projects\\fake-news-etl-project\\data')\n"
   ]
  },
  {
   "cell_type": "code",
   "execution_count": 1,
   "id": "c85609a1",
   "metadata": {},
   "outputs": [
    {
     "name": "stderr",
     "output_type": "stream",
     "text": [
      "[nltk_data] Downloading package stopwords to\n",
      "[nltk_data]     C:\\Users\\vbitu\\AppData\\Roaming\\nltk_data...\n",
      "[nltk_data]   Unzipping corpora\\stopwords.zip.\n"
     ]
    },
    {
     "data": {
      "text/plain": [
       "True"
      ]
     },
     "execution_count": 1,
     "metadata": {},
     "output_type": "execute_result"
    }
   ],
   "source": [
    "import nltk\n",
    "nltk.download('stopwords')"
   ]
  }
 ],
 "metadata": {
  "kernelspec": {
   "display_name": "fake-news-etl-v2",
   "language": "python",
   "name": "python3"
  },
  "language_info": {
   "codemirror_mode": {
    "name": "ipython",
    "version": 3
   },
   "file_extension": ".py",
   "mimetype": "text/x-python",
   "name": "python",
   "nbconvert_exporter": "python",
   "pygments_lexer": "ipython3",
   "version": "3.11.11"
  }
 },
 "nbformat": 4,
 "nbformat_minor": 5
}
