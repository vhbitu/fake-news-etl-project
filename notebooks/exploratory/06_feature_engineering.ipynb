{
 "cells": [
  {
   "cell_type": "code",
   "execution_count": 1,
   "id": "d7d39aed",
   "metadata": {},
   "outputs": [
    {
     "name": "stdout",
     "output_type": "stream",
     "text": [
      "       qtde_palavras  qtde_caracteres\n",
      "count    4418.000000      4418.000000\n",
      "mean      263.995926      2140.355591\n",
      "std       198.352336      1627.999295\n",
      "min        33.000000       242.000000\n",
      "25%       169.000000      1363.250000\n",
      "50%       210.500000      1704.000000\n",
      "75%       278.000000      2250.250000\n",
      "max      4561.000000     37789.000000\n"
     ]
    }
   ],
   "source": [
    "# ===============================\n",
    "# Engenharia de Features - NLP (Bloco 2 revisado)\n",
    "# ===============================\n",
    "\n",
    "import pandas as pd\n",
    "import numpy as np\n",
    "import matplotlib.pyplot as plt\n",
    "\n",
    "from sklearn.feature_extraction.text import CountVectorizer, TfidfVectorizer\n",
    "\n",
    "# Carregando o dataset já com o texto limpo\n",
    "df = pd.read_csv(r'C:\\Users\\vbitu\\projects\\fake-news-etl-project\\data\\processed\\dados_unificados_aosfatos_limpo.csv')\n",
    "\n",
    "# ===============================\n",
    "# Contagem de palavras e caracteres\n",
    "# ===============================\n",
    "\n",
    "# Contagem de palavras\n",
    "df['qtde_palavras'] = df['texto_limpo'].apply(lambda x: len(str(x).split()))\n",
    "\n",
    "# Contagem de caracteres\n",
    "df['qtde_caracteres'] = df['texto_limpo'].apply(lambda x: len(str(x)))\n",
    "\n",
    "# Visualizando o resultado\n",
    "print(df[['qtde_palavras', 'qtde_caracteres']].describe())\n",
    "\n",
    "# ===============================\n",
    "# Bag of Words (CountVectorizer)\n",
    "# ===============================\n",
    "\n",
    "# Inicializando o CountVectorizer\n",
    "vectorizer_bow = CountVectorizer(max_features=100)\n",
    "\n",
    "# Ajuste e transformação\n",
    "bow_matrix = vectorizer_bow.fit_transform(df['texto_limpo'].fillna(\"\"))\n",
    "\n",
    "# Convertendo para DataFrame\n",
    "bow_df = pd.DataFrame(bow_matrix.toarray(), columns=vectorizer_bow.get_feature_names_out())\n",
    "\n",
    "# Concatenando ao dataframe original\n",
    "df_bow = pd.concat([df.reset_index(drop=True), bow_df.reset_index(drop=True)], axis=1)\n",
    "\n",
    "# ===============================\n",
    "# TF-IDF (Term Frequency - Inverse Document Frequency)\n",
    "# ===============================\n",
    "\n",
    "# Inicializando o TF-IDF Vectorizer\n",
    "vectorizer_tfidf = TfidfVectorizer(max_features=100)\n",
    "\n",
    "# Ajuste e transformação\n",
    "tfidf_matrix = vectorizer_tfidf.fit_transform(df['texto_limpo'].fillna(\"\"))\n",
    "\n",
    "# Convertendo para DataFrame\n",
    "tfidf_df = pd.DataFrame(tfidf_matrix.toarray(), columns=vectorizer_tfidf.get_feature_names_out())\n",
    "\n",
    "# Concatenando ao dataframe original\n",
    "df_tfidf = pd.concat([df.reset_index(drop=True), tfidf_df.reset_index(drop=True)], axis=1)\n",
    "\n",
    "# ===============================\n",
    "# Salvando os datasets processados\n",
    "# ===============================\n",
    "\n",
    "# Salvando as tabelas enriquecidas\n",
    "df_bow.to_csv(r'C:\\Users\\vbitu\\projects\\fake-news-etl-project\\data\\processed\\dados_aosfatos_bow.csv', index=False)\n",
    "df_tfidf.to_csv(r'C:\\Users\\vbitu\\projects\\fake-news-etl-project\\data\\processed\\dados_aosfatos_tfidf.csv', index=False)\n"
   ]
  }
 ],
 "metadata": {
  "kernelspec": {
   "display_name": "fake-news-etl-v2",
   "language": "python",
   "name": "python3"
  },
  "language_info": {
   "codemirror_mode": {
    "name": "ipython",
    "version": 3
   },
   "file_extension": ".py",
   "mimetype": "text/x-python",
   "name": "python",
   "nbconvert_exporter": "python",
   "pygments_lexer": "ipython3",
   "version": "3.11.11"
  }
 },
 "nbformat": 4,
 "nbformat_minor": 5
}
